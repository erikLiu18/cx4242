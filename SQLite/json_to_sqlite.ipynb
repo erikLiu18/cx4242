{
 "cells": [
  {
   "cell_type": "code",
   "execution_count": 9,
   "id": "231265bc",
   "metadata": {},
   "outputs": [],
   "source": [
    "import sqlite3\n",
    "import pandas"
   ]
  },
  {
   "cell_type": "code",
   "execution_count": 3,
   "id": "4b36bcfc",
   "metadata": {},
   "outputs": [],
   "source": [
    "conn = sqlite3.connect('nft_database.db')\n",
    "c = conn.cursor()\n",
    "conn.enable_load_extension(True)"
   ]
  },
  {
   "cell_type": "code",
   "execution_count": 4,
   "id": "2c9bb6ed",
   "metadata": {},
   "outputs": [
    {
     "data": {
      "text/plain": [
       "<sqlite3.Cursor at 0x7f9f0862e5e0>"
      ]
     },
     "execution_count": 4,
     "metadata": {},
     "output_type": "execute_result"
    }
   ],
   "source": [
    "c.execute(\"\"\"CREATE TABLE meebits(\n",
    "        block_number integer,\n",
    "        block_timestamp text,\n",
    "        block_hash text,\n",
    "        transaction_hash text,\n",
    "        transaction_index integer,\n",
    "        log_index integer,\n",
    "        value integer,\n",
    "        contract_type text,\n",
    "        transaction_type text,\n",
    "        token_address text,\n",
    "        token_id integer,\n",
    "        from_address text,\n",
    "        to_address text,\n",
    "        amount integer,\n",
    "        verified integer,\n",
    "        operator text\n",
    "    )\"\"\")"
   ]
  },
  {
   "cell_type": "code",
   "execution_count": 8,
   "id": "22cc9bcc",
   "metadata": {},
   "outputs": [
    {
     "ename": "OperationalError",
     "evalue": "near \".\": syntax error",
     "output_type": "error",
     "traceback": [
      "\u001b[0;31m---------------------------------------------------------------------------\u001b[0m",
      "\u001b[0;31mOperationalError\u001b[0m                          Traceback (most recent call last)",
      "Input \u001b[0;32mIn [8]\u001b[0m, in \u001b[0;36m<cell line: 1>\u001b[0;34m()\u001b[0m\n\u001b[0;32m----> 1\u001b[0m \u001b[43mc\u001b[49m\u001b[38;5;241;43m.\u001b[39;49m\u001b[43mexecute\u001b[49m\u001b[43m(\u001b[49m\u001b[38;5;124;43m\"\"\"\u001b[39;49m\n\u001b[1;32m      2\u001b[0m \u001b[38;5;124;43m    .mode csv\u001b[39;49m\n\u001b[1;32m      3\u001b[0m \u001b[38;5;124;43m\"\"\"\u001b[39;49m\u001b[43m)\u001b[49m\n",
      "\u001b[0;31mOperationalError\u001b[0m: near \".\": syntax error"
     ]
    }
   ],
   "source": [
    "df = pandas.read_csv(csvfile)\n",
    "df.to_sql(table_name, conn, if_exists='append', index=False)"
   ]
  },
  {
   "cell_type": "code",
   "execution_count": null,
   "id": "2f55dc6b",
   "metadata": {},
   "outputs": [],
   "source": []
  }
 ],
 "metadata": {
  "kernelspec": {
   "display_name": "Python 3 (ipykernel)",
   "language": "python",
   "name": "python3"
  },
  "language_info": {
   "codemirror_mode": {
    "name": "ipython",
    "version": 3
   },
   "file_extension": ".py",
   "mimetype": "text/x-python",
   "name": "python",
   "nbconvert_exporter": "python",
   "pygments_lexer": "ipython3",
   "version": "3.9.11"
  }
 },
 "nbformat": 4,
 "nbformat_minor": 5
}
