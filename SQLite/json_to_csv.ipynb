{
 "cells": [
  {
   "cell_type": "code",
   "execution_count": 1,
   "id": "e4e2589b",
   "metadata": {},
   "outputs": [],
   "source": [
    "import json\n",
    "import csv\n",
    "import pandas\n",
    "import sqlite3"
   ]
  },
  {
   "cell_type": "code",
   "execution_count": 2,
   "id": "a5256802",
   "metadata": {},
   "outputs": [
    {
     "name": "stdout",
     "output_type": "stream",
     "text": [
      "BAKC.csv              cryptopunk.csv        meebit.json\r\n",
      "\u001b[34mCollection JSONs\u001b[m\u001b[m/     doodles.csv           mutantApes.csv\r\n",
      "azuki.csv             json_to_csv.ipynb     nft_database.db\r\n",
      "boredApes.csv         json_to_sqlite.ipynb  terraform.csv\r\n",
      "clonex.csv            loot.csv\r\n",
      "coolcat.csv           meebit.csv\r\n"
     ]
    }
   ],
   "source": [
    "ls"
   ]
  },
  {
   "cell_type": "code",
   "execution_count": 3,
   "id": "38281401",
   "metadata": {},
   "outputs": [],
   "source": [
    "with open('Collection JSONs/dotdotdot.json') as json_file:\n",
    "    jsondata = json.load(json_file)"
   ]
  },
  {
   "cell_type": "code",
   "execution_count": 4,
   "id": "9ecd0329",
   "metadata": {},
   "outputs": [],
   "source": [
    "data_file = open('dotdotdot.csv', 'w+', newline='')\n",
    "csv_writer = csv.writer(data_file)"
   ]
  },
  {
   "cell_type": "code",
   "execution_count": 5,
   "id": "388f9e0e",
   "metadata": {},
   "outputs": [],
   "source": [
    "count = 0\n",
    "for data in jsondata:\n",
    "#     if type(data[\"value\"]) != type(1):\n",
    "#         print(type(data[\"value\"]))\n",
    "    if count == 0:\n",
    "        header = data.keys()\n",
    "        csv_writer.writerow(header)\n",
    "        count += 1\n",
    "    csv_writer.writerow(data.values())"
   ]
  },
  {
   "cell_type": "code",
   "execution_count": 6,
   "id": "81609cd4",
   "metadata": {},
   "outputs": [],
   "source": [
    "conn = sqlite3.connect('nft_database.db')\n",
    "c = conn.cursor()"
   ]
  },
  {
   "cell_type": "code",
   "execution_count": 7,
   "id": "5aa64d44",
   "metadata": {},
   "outputs": [],
   "source": [
    "dtypes = {\n",
    "    'block_number': 'int64', \n",
    "    'block_timestamp': 'str', \n",
    "    'block_hash': 'str', \n",
    "    'transaction_hash': 'str',\n",
    "    'transaction_index': 'str',\n",
    "    'log_index': 'str',\n",
    "    'value': 'str',\n",
    "    'contract_type': 'str',\n",
    "    'transaction_type': 'str',\n",
    "    'token_address': 'str',\n",
    "    'token_id': 'int64',\n",
    "    'from_address': 'str',\n",
    "    'to_address': 'str',\n",
    "    'amount': 'str',\n",
    "    'verified': 'str',\n",
    "    'operator': 'str'\n",
    "}\n",
    "parse_dates = ['block_timestamp']\n",
    "df = pandas.read_csv(\"dotdotdot.csv\", dtype=dtypes, parse_dates=parse_dates)\n",
    "# df.head(10)"
   ]
  },
  {
   "cell_type": "code",
   "execution_count": 8,
   "id": "b4136c11",
   "metadata": {
    "scrolled": true
   },
   "outputs": [],
   "source": [
    "df = df.drop(columns=['amount', 'verified', 'operator', 'transaction_type', 'contract_type', 'log_index'])\n",
    "# df.head(10)"
   ]
  },
  {
   "cell_type": "code",
   "execution_count": 9,
   "id": "981e63a1",
   "metadata": {},
   "outputs": [
    {
     "data": {
      "text/plain": [
       "18250"
      ]
     },
     "execution_count": 9,
     "metadata": {},
     "output_type": "execute_result"
    }
   ],
   "source": [
    "df.to_sql(\"dotdotdot\", conn, if_exists='append', index=False)"
   ]
  },
  {
   "cell_type": "code",
   "execution_count": 10,
   "id": "1e8319f7",
   "metadata": {},
   "outputs": [],
   "source": [
    "data_file.close()"
   ]
  },
  {
   "cell_type": "code",
   "execution_count": null,
   "id": "d3be4df7",
   "metadata": {},
   "outputs": [],
   "source": []
  }
 ],
 "metadata": {
  "kernelspec": {
   "display_name": "Python 3 (ipykernel)",
   "language": "python",
   "name": "python3"
  },
  "language_info": {
   "codemirror_mode": {
    "name": "ipython",
    "version": 3
   },
   "file_extension": ".py",
   "mimetype": "text/x-python",
   "name": "python",
   "nbconvert_exporter": "python",
   "pygments_lexer": "ipython3",
   "version": "3.9.11"
  }
 },
 "nbformat": 4,
 "nbformat_minor": 5
}
